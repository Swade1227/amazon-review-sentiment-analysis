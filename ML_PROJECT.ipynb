{
  "nbformat": 4,
  "nbformat_minor": 0,
  "metadata": {
    "colab": {
      "provenance": []
    },
    "kernelspec": {
      "name": "python3",
      "display_name": "Python 3"
    },
    "language_info": {
      "name": "python"
    }
  },
  "cells": [
    {
      "cell_type": "markdown",
      "source": [
        "# **SECTION 1: OBTAINING AND PREPROCESSING DATA**"
      ],
      "metadata": {
        "id": "8-C_la0w05z6"
      }
    },
    {
      "cell_type": "markdown",
      "source": [
        "The data I will use comes amazon review data. In particular, the data I use comes from 1613536 reviews on CD's, Vinyl's, and digital music.\n",
        "\n",
        "I will only be using a subset of these reviews, and only the 'reviewText' and 'overall' attributes will be needed.\n",
        "\n",
        "Each review object contains:\n",
        "* reviewerID - ID of the reviewer, e.g. A2SUAM1J3GNN3B\n",
        "* asin - ID of the product, e.g. 0000013714\n",
        "* reviewerName - name of the reviewer\n",
        "* vote - helpful votes of the review\n",
        "* style - a disctionary of the product metadata, e.g., \"Format\" is \"Hardcover\"\n",
        "* reviewText - text of the review\n",
        "* overall - rating of the product (1-5)\n",
        "* summary - summary of the review\n",
        "* unixReviewTime - time of the review (unix time)\n",
        "* reviewTime - time of the review (raw)\n",
        "* image - images that users post after they have received the product\n",
        "\n",
        "\n",
        "\n",
        "---\n",
        "\n",
        "\n"
      ],
      "metadata": {
        "id": "5mc7YVBGtsZQ"
      }
    },
    {
      "cell_type": "markdown",
      "source": [
        "### **Section (1.1): Getting datafiles onto colab**"
      ],
      "metadata": {
        "id": "_0jZzEt20ACb"
      }
    },
    {
      "cell_type": "code",
      "source": [
        "import os\n",
        "import requests\n",
        "\n",
        "# Specify the URLs of the files you want to download\n",
        "file_urls = {\n",
        "    'file1.gz': 'https://jmcauley.ucsd.edu/data/amazon_v2/categoryFilesSmall/CDs_and_Vinyl_5.json.gz',\n",
        "    'file2.gz': 'https://jmcauley.ucsd.edu/data/amazon_v2/categoryFilesSmall/Digital_Music_5.json.gz'\n",
        "}\n",
        "\n",
        "# Specify the output directory in Colab\n",
        "output_directory = \"/content/\"\n",
        "\n",
        "# Download files to the output directory\n",
        "for filename, url in file_urls.items():\n",
        "    output_path = os.path.join(output_directory, filename)\n",
        "    response = requests.get(url, verify=False)\n",
        "    with open(output_path, 'wb') as f:\n",
        "        f.write(response.content)\n"
      ],
      "metadata": {
        "colab": {
          "base_uri": "https://localhost:8080/"
        },
        "id": "UVDSQqA-P7Ys",
        "outputId": "6d38f4fc-7dc8-4aa3-fc18-c610e456b0ec"
      },
      "execution_count": null,
      "outputs": [
        {
          "output_type": "stream",
          "name": "stderr",
          "text": [
            "/usr/local/lib/python3.10/dist-packages/urllib3/connectionpool.py:1100: InsecureRequestWarning: Unverified HTTPS request is being made to host 'jmcauley.ucsd.edu'. Adding certificate verification is strongly advised. See: https://urllib3.readthedocs.io/en/latest/advanced-usage.html#tls-warnings\n",
            "  warnings.warn(\n",
            "/usr/local/lib/python3.10/dist-packages/urllib3/connectionpool.py:1100: InsecureRequestWarning: Unverified HTTPS request is being made to host 'jmcauley.ucsd.edu'. Adding certificate verification is strongly advised. See: https://urllib3.readthedocs.io/en/latest/advanced-usage.html#tls-warnings\n",
            "  warnings.warn(\n"
          ]
        }
      ]
    },
    {
      "cell_type": "code",
      "source": [
        "# Parses through the review data files and stores each review in all_reviews\n",
        "\n",
        "# NOTE: Takes about a minute to run\n",
        "\n",
        "from collections import Counter\n",
        "import gzip\n",
        "import json\n",
        "import os\n",
        "import random\n",
        "\n",
        "all_reviews = []\n",
        "\n",
        "# Path to the directory containing your data files\n",
        "data_directory = \"/content/\"\n",
        "\n",
        "# Iterate over each file in the directory\n",
        "for filename in os.listdir(data_directory):\n",
        "    if filename.endswith(\".gz\"):\n",
        "        # Path to the compressed JSON file\n",
        "        json_gz_file = os.path.join(data_directory, filename)\n",
        "\n",
        "        # Open the compressed JSON file and extract its contents\n",
        "        with gzip.open(json_gz_file, 'rt') as f:\n",
        "            # Read each line and parse it as JSON\n",
        "            for line in f:\n",
        "                review = json.loads(line.strip())\n",
        "                all_reviews.append(review)\n",
        "\n",
        "print(\"succesfully loaded:\", len(all_reviews), \"reviews.\")"
      ],
      "metadata": {
        "colab": {
          "base_uri": "https://localhost:8080/"
        },
        "id": "lhePEzcr0fp3",
        "outputId": "8d453228-2010-4386-9011-05d81faa2e3f"
      },
      "execution_count": null,
      "outputs": [
        {
          "output_type": "stream",
          "name": "stdout",
          "text": [
            "succesfully loaded: 1613536 reviews.\n"
          ]
        }
      ]
    },
    {
      "cell_type": "markdown",
      "source": [
        "\n",
        "\n",
        "---\n",
        "\n"
      ],
      "metadata": {
        "id": "exV-CSb40VyX"
      }
    },
    {
      "cell_type": "markdown",
      "source": [
        "### **Section (1.2): Preprocessing**\n",
        "At this point we have a list \"all_reviews\" containing 1613536 review objects. In this section we will create a subset of these reviews to work with. To do this corectly we must randomly sample while also ensuring equal distribution across the 'overall' attributes."
      ],
      "metadata": {
        "id": "LkovKFa00Y9N"
      }
    },
    {
      "cell_type": "code",
      "source": [
        "# Lets take a look at the current distribution of 'overall' in our reviews\n",
        "\n",
        "# Count the frequencies of each 'overall' rating in the entire dataset\n",
        "overall_ratings_counts = Counter(review['overall'] for review in all_reviews)\n",
        "\n",
        "print(\"all_reviews 'overall' distribution:\", overall_ratings_counts)\n",
        "print(\"total reviews in all_reviews:\", len(all_reviews))\n"
      ],
      "metadata": {
        "colab": {
          "base_uri": "https://localhost:8080/"
        },
        "id": "MAhQUD31qmGl",
        "outputId": "33906be6-83c9-4c59-e7b2-48304ff3604a"
      },
      "execution_count": null,
      "outputs": [
        {
          "output_type": "stream",
          "name": "stdout",
          "text": [
            "all_reviews 'overall' distribution: Counter({5.0: 1104597, 4.0: 297874, 3.0: 117199, 2.0: 48179, 1.0: 45687})\n",
            "total reviews in all_reviews: 1613536\n"
          ]
        }
      ]
    },
    {
      "cell_type": "markdown",
      "source": [
        "Here we convert the 1-5 amazon rating system into three classes (-1,0,1)"
      ],
      "metadata": {
        "id": "h5bmdOAv0BRX"
      }
    },
    {
      "cell_type": "code",
      "source": [
        "# Iterate over the reviews in all_reviews and edit the 'overall' value\n",
        "for review in all_reviews:\n",
        "    rating = review['overall']\n",
        "    if rating <= 2:\n",
        "        review['overall'] = -1\n",
        "    elif rating <= 4:\n",
        "        review['overall'] = 0\n",
        "    else:\n",
        "        review['overall'] = 1\n",
        "\n",
        "# Count the frequencies of each 'overall' rating in the entire dataset\n",
        "overall_ratings_counts = Counter(review['overall'] for review in all_reviews)\n",
        "\n",
        "print(\"all_reviews 'overall' distribution:\", overall_ratings_counts)\n",
        "print(\"total reviews in all_reviews:\", len(all_reviews))"
      ],
      "metadata": {
        "colab": {
          "base_uri": "https://localhost:8080/"
        },
        "id": "ihvV5CbABtK9",
        "outputId": "01d13dca-f547-418e-c5e0-00dbad72ccc6"
      },
      "execution_count": null,
      "outputs": [
        {
          "output_type": "stream",
          "name": "stdout",
          "text": [
            "all_reviews 'overall' distribution: Counter({1: 1104597, 0: 415073, -1: 93866})\n",
            "total reviews in all_reviews: 1613536\n"
          ]
        }
      ]
    },
    {
      "cell_type": "markdown",
      "source": [
        "As we can see the distribution is heavily skewed towards more good reviews and less bad ones. Lets make a smaller subset of all_reviews to work with, and let's ensure equal distribution of 'overall' scores across the new subset."
      ],
      "metadata": {
        "id": "MUWqqyZD3iwd"
      }
    },
    {
      "cell_type": "code",
      "source": [
        "# Set desired sample size for each class\n",
        "total_samples = 10000\n",
        "sample_size_per_class = {rating: total_samples // len(overall_ratings_counts) for rating in overall_ratings_counts}\n",
        "\n",
        "# Initialize a dictionary to store sampled reviews\n",
        "sampled_reviews = {rating: [] for rating in overall_ratings_counts}\n",
        "\n",
        "# Iterate over the reviews and perform stratified sampling\n",
        "for review in all_reviews:\n",
        "    rating = review['overall']\n",
        "    if len(sampled_reviews[rating]) < sample_size_per_class[rating]:\n",
        "        sampled_reviews[rating].append(review)\n",
        "    else:\n",
        "        # Randomly replace existing samples with new samples\n",
        "        idx = random.randint(0, len(sampled_reviews[rating]) - 1)\n",
        "        if random.random() < sample_size_per_class[rating] / len(sampled_reviews[rating]):\n",
        "            sampled_reviews[rating][idx] = review\n",
        "\n",
        "# Flatten the sampled reviews into a single list\n",
        "final_stratified_sample = [review for sublist in sampled_reviews.values() for review in sublist]\n",
        "\n",
        "# Count the frequencies of each 'overall' rating in the stratified sampled dataset\n",
        "strat_samples = Counter(review['overall'] for review in final_stratified_sample)\n",
        "print(\"new distribution:\", strat_samples)\n",
        "\n",
        "print(\"total reviews in subset:\", len(final_stratified_sample))\n"
      ],
      "metadata": {
        "colab": {
          "base_uri": "https://localhost:8080/"
        },
        "id": "pqG8ox-N3dGX",
        "outputId": "851a2be6-1194-41cb-89d7-e683a83936de"
      },
      "execution_count": null,
      "outputs": [
        {
          "output_type": "stream",
          "name": "stdout",
          "text": [
            "new distribution: Counter({1: 3333, 0: 3333, -1: 3333})\n",
            "total reviews in subset: 9999\n"
          ]
        }
      ]
    },
    {
      "cell_type": "code",
      "source": [
        "print(final_stratified_sample[0])\n",
        "print(final_stratified_sample[3333])\n",
        "print(final_stratified_sample[6666])"
      ],
      "metadata": {
        "colab": {
          "base_uri": "https://localhost:8080/"
        },
        "id": "_wqQf-vxfDjG",
        "outputId": "72f2c830-9a4a-4aa2-b29e-d1f8103f7901"
      },
      "execution_count": null,
      "outputs": [
        {
          "output_type": "stream",
          "name": "stdout",
          "text": [
            "{'overall': 1, 'verified': True, 'reviewTime': '04 6, 2018', 'reviewerID': 'A1LKCGKFIED2F2', 'asin': 'B00OV9IXMI', 'style': {'Format:': ' MP3 Music'}, 'reviewerName': 'Chuck Gough', 'reviewText': 'Great song', 'summary': 'Awesome', 'unixReviewTime': 1522972800}\n",
            "{'overall': 0, 'verified': True, 'reviewTime': '02 1, 2016', 'reviewerID': 'AMTIG63PJHLIG', 'asin': 'B00137TEE2', 'style': {'Format:': ' MP3 Music'}, 'reviewerName': 'Amazon Customer', 'reviewText': \"Haven't heard since I was little\", 'summary': 'Three Stars', 'unixReviewTime': 1454284800}\n",
            "{'overall': -1, 'verified': True, 'reviewTime': '01 9, 2015', 'reviewerID': 'AZAW12EWF3O6G', 'asin': 'B006L5O9GY', 'reviewerName': 'RVMY', 'reviewText': 'Not worth the price: this digital download was free!', 'summary': '...', 'unixReviewTime': 1420761600}\n"
          ]
        }
      ]
    },
    {
      "cell_type": "markdown",
      "source": [
        "Now that we have the subset, lets remove all but 'overall' and 'reviewText' for each review."
      ],
      "metadata": {
        "id": "KQxEV9gTDTRm"
      }
    },
    {
      "cell_type": "code",
      "source": [
        "# Create a new list to store dictionaries with 'reviewText' key\n",
        "filtered_final_stratified_sample = []\n",
        "\n",
        "# Iterate through each dictionary in final_stratified_sample\n",
        "for review in final_stratified_sample:\n",
        "    # Check if 'reviewText' key exists in the review dictionary\n",
        "    if 'reviewText' in review:\n",
        "        # Create a new dictionary containing only the 'reviewText' and 'overall' attributes\n",
        "        new_review = {'reviewText': review['reviewText'], 'overall': review['overall']}\n",
        "        # Append the new dictionary to the filtered list\n",
        "        filtered_final_stratified_sample.append(new_review)"
      ],
      "metadata": {
        "id": "g52xHz_ihHai"
      },
      "execution_count": null,
      "outputs": []
    },
    {
      "cell_type": "code",
      "source": [
        "print(\"length of original:\", len(final_stratified_sample))\n",
        "print(\"length of filtered:\", len(filtered_final_stratified_sample))\n",
        "print(\"number of reviews without reviewText removed:\",len(final_stratified_sample)-len(filtered_final_stratified_sample))\n",
        "print()\n",
        "print(filtered_final_stratified_sample[0])\n",
        "print(filtered_final_stratified_sample[3333])\n",
        "print(filtered_final_stratified_sample[6666])"
      ],
      "metadata": {
        "colab": {
          "base_uri": "https://localhost:8080/"
        },
        "id": "61AY8fDTVBpC",
        "outputId": "1e102c88-d0c0-4767-b326-2c16484da8e8"
      },
      "execution_count": null,
      "outputs": [
        {
          "output_type": "stream",
          "name": "stdout",
          "text": [
            "length of original: 9999\n",
            "length of filtered: 9990\n",
            "number of reviews without reviewText removed: 9\n",
            "\n",
            "{'reviewText': 'Great song', 'overall': 1}\n",
            "{'reviewText': 'I like hearing how the lord speaks to artist.', 'overall': 0}\n",
            "{'reviewText': \"It wasn't the song I was thinking about!\", 'overall': -1}\n"
          ]
        }
      ]
    },
    {
      "cell_type": "markdown",
      "source": [
        "Now lets process the reviewText even further to prepare it for feature extraction, removing punctuation and leaving behind only the words seperated by spaces."
      ],
      "metadata": {
        "id": "c8APpFxQHk1w"
      }
    },
    {
      "cell_type": "code",
      "source": [
        "import nltk\n",
        "import string\n",
        "\n",
        "# Download NLTK stopwords\n",
        "nltk.download('stopwords')\n",
        "from nltk.corpus import stopwords\n",
        "stop_words = set(stopwords.words('english'))\n",
        "\n",
        "def clean_text(text):\n",
        "    # Remove punctuation\n",
        "    text = text.translate(str.maketrans('', '', string.punctuation))\n",
        "\n",
        "    # Convert text to lowercase\n",
        "    text = text.lower()\n",
        "\n",
        "    # Remove stopwords\n",
        "    text = ' '.join(word for word in text.split() if word not in stop_words)\n",
        "\n",
        "    # Remove special characters and digits\n",
        "    text = ''.join(character for character in text if character.isalpha() or character.isspace())\n",
        "\n",
        "    return text\n"
      ],
      "metadata": {
        "colab": {
          "base_uri": "https://localhost:8080/"
        },
        "id": "TE8prYVwl-8E",
        "outputId": "2deb5df9-82b6-4054-ecff-48e0a405f9ed"
      },
      "execution_count": null,
      "outputs": [
        {
          "output_type": "stream",
          "name": "stderr",
          "text": [
            "[nltk_data] Downloading package stopwords to /root/nltk_data...\n",
            "[nltk_data]   Unzipping corpora/stopwords.zip.\n"
          ]
        }
      ]
    },
    {
      "cell_type": "code",
      "source": [
        "# Loop through each dictionary in parsed_text\n",
        "for review in filtered_final_stratified_sample:\n",
        "    # Access the 'reviewText' value from the dictionary\n",
        "    review_text = review['reviewText']\n",
        "\n",
        "    # Clean the text using the clean_text function\n",
        "    cleaned_text = clean_text(review_text)\n",
        "\n",
        "    review['reviewText'] = cleaned_text"
      ],
      "metadata": {
        "id": "Lgto8fUQqBoN"
      },
      "execution_count": null,
      "outputs": []
    },
    {
      "cell_type": "code",
      "source": [
        "print(filtered_final_stratified_sample[0])\n",
        "print(filtered_final_stratified_sample[3333])\n",
        "print(filtered_final_stratified_sample[6666])"
      ],
      "metadata": {
        "colab": {
          "base_uri": "https://localhost:8080/"
        },
        "id": "gyMqpuWLWDze",
        "outputId": "672f65c7-a90e-473d-bae1-2eab20a4d719"
      },
      "execution_count": null,
      "outputs": [
        {
          "output_type": "stream",
          "name": "stdout",
          "text": [
            "{'reviewText': 'great song', 'overall': 1}\n",
            "{'reviewText': 'like hearing lord speaks artist', 'overall': 0}\n",
            "{'reviewText': 'wasnt song thinking', 'overall': -1}\n"
          ]
        }
      ]
    },
    {
      "cell_type": "markdown",
      "source": [
        "---"
      ],
      "metadata": {
        "id": "c_UV9xl2ScaK"
      }
    },
    {
      "cell_type": "markdown",
      "source": [
        "# **SECTION 2: FEATURE EXTRACTION**"
      ],
      "metadata": {
        "id": "VxlIucsi-aFb"
      }
    },
    {
      "cell_type": "markdown",
      "source": [
        "Here I tokenize the data"
      ],
      "metadata": {
        "id": "MuGU7wpRGGM2"
      }
    },
    {
      "cell_type": "code",
      "source": [
        "import nltk\n",
        "from nltk.tokenize import word_tokenize\n",
        "\n",
        "# Ensure NLTK tokenizer is downloaded (only need to run this once)\n",
        "nltk.download('punkt')\n",
        "\n",
        "# Tokenize review texts for all the reviews\n",
        "for review in filtered_final_stratified_sample:\n",
        "    review_text = review['reviewText']\n",
        "    tokens = word_tokenize(review_text)\n",
        "    review['reviewText'] = tokens"
      ],
      "metadata": {
        "colab": {
          "base_uri": "https://localhost:8080/"
        },
        "id": "iFDP5ZsIGIFb",
        "outputId": "f2b00680-721e-44f9-a8fc-2e538c456881"
      },
      "execution_count": null,
      "outputs": [
        {
          "output_type": "stream",
          "name": "stderr",
          "text": [
            "[nltk_data] Downloading package punkt to /root/nltk_data...\n",
            "[nltk_data]   Unzipping tokenizers/punkt.zip.\n"
          ]
        }
      ]
    },
    {
      "cell_type": "code",
      "source": [
        "print(filtered_final_stratified_sample[0])\n",
        "print(filtered_final_stratified_sample[3333])\n",
        "print(filtered_final_stratified_sample[6666])"
      ],
      "metadata": {
        "colab": {
          "base_uri": "https://localhost:8080/"
        },
        "id": "tRdy_rqAGLCg",
        "outputId": "6bdd2776-94f6-41df-bf97-d05b8bf7450d"
      },
      "execution_count": null,
      "outputs": [
        {
          "output_type": "stream",
          "name": "stdout",
          "text": [
            "{'reviewText': ['great', 'song'], 'overall': 1}\n",
            "{'reviewText': ['like', 'hearing', 'lord', 'speaks', 'artist'], 'overall': 0}\n",
            "{'reviewText': ['wasnt', 'song', 'thinking'], 'overall': -1}\n"
          ]
        }
      ]
    },
    {
      "cell_type": "markdown",
      "source": [
        "# 1.1 Bag of Words\n",
        "A simple and basic approach for text representation in natural language processing. It involves representing text data as a collection of words, disregarding grammar and word order, and focusing only on the frequency of occurrence of words in a document."
      ],
      "metadata": {
        "id": "aSvQYj5s1LlY"
      }
    },
    {
      "cell_type": "code",
      "source": [
        "from sklearn.feature_extraction.text import CountVectorizer\n",
        "\n",
        "# Extract tokenized review texts\n",
        "tokenized_texts = [review['reviewText'] for review in filtered_final_stratified_sample]\n",
        "\n",
        "# Initialize CountVectorizer\n",
        "vectorizer = CountVectorizer()\n",
        "\n",
        "# Fit the vectorizer on the tokenized texts and transform them into BoW features\n",
        "bow_features = vectorizer.fit_transform([' '.join(tokens) for tokens in tokenized_texts])\n",
        "\n",
        "# Convert the BoW features to an array\n",
        "bow_features_array = bow_features.toarray()\n",
        "\n",
        "# Print the shape of the BoW features array\n",
        "print(\"Shape of BoW features array:\", bow_features_array.shape)\n"
      ],
      "metadata": {
        "id": "ovPJ9QOl7S88",
        "colab": {
          "base_uri": "https://localhost:8080/"
        },
        "outputId": "ae5c0f44-25e3-4daa-fc7a-dc24a0a315d5"
      },
      "execution_count": null,
      "outputs": [
        {
          "output_type": "stream",
          "name": "stdout",
          "text": [
            "Shape of BoW features array: (9990, 21639)\n"
          ]
        }
      ]
    },
    {
      "cell_type": "code",
      "source": [
        "print(filtered_final_stratified_sample[0])\n",
        "print(filtered_final_stratified_sample[3333])\n",
        "print(filtered_final_stratified_sample[6666])"
      ],
      "metadata": {
        "colab": {
          "base_uri": "https://localhost:8080/"
        },
        "id": "iSRhFIHfKsW_",
        "outputId": "4e7f7bb9-21f8-41af-cccb-f32eccc9d1fa"
      },
      "execution_count": null,
      "outputs": [
        {
          "output_type": "stream",
          "name": "stdout",
          "text": [
            "{'reviewText': ['great', 'song'], 'overall': 1}\n",
            "{'reviewText': ['like', 'hearing', 'lord', 'speaks', 'artist'], 'overall': 0}\n",
            "{'reviewText': ['wasnt', 'song', 'thinking'], 'overall': -1}\n"
          ]
        }
      ]
    },
    {
      "cell_type": "code",
      "source": [
        "# This here finds a good review to plot\n",
        "\n",
        "import matplotlib.pyplot as plt\n",
        "\n",
        "i = 0\n",
        "p = len(filtered_final_stratified_sample[i]['reviewText'])\n",
        "while p > 20 or p < 5:\n",
        "  i = i + 1\n",
        "  p = len(filtered_final_stratified_sample[i]['reviewText'])\n",
        "\n",
        "# Select a review index to visualize its BoW representation\n",
        "review_index = i\n",
        "\n",
        "# Get the tokenized text and BoW features for the selected review\n",
        "tokens = filtered_final_stratified_sample[review_index]['reviewText']\n",
        "bow_features_row = bow_features_array[review_index]\n",
        "\n",
        "# Create a dictionary mapping each word to its count in the review\n",
        "word_count_dict = {word: count for word, count in zip(vectorizer.get_feature_names_out(), bow_features_row)}\n",
        "\n",
        "# Sort the word count dictionary by count in descending order\n",
        "sorted_word_count = sorted(word_count_dict.items(), key=lambda x: x[1], reverse=True)\n",
        "\n",
        "# Extract the top N words and their counts for visualization\n",
        "top_n = len(filtered_final_stratified_sample[review_index]['reviewText']) # Change this value to visualize more or fewer words\n",
        "top_words = [pair[0] for pair in sorted_word_count[:top_n]]\n",
        "top_counts = [pair[1] for pair in sorted_word_count[:top_n]]\n",
        "\n",
        "# Plot the bar chart\n",
        "plt.figure(figsize=(10, 6))\n",
        "plt.bar(top_words, top_counts, color='skyblue')\n",
        "plt.xlabel('Words')\n",
        "plt.ylabel('Count')\n",
        "plt.title('Bag of Words Representation for Review {}'.format(review_index))\n",
        "plt.xticks(rotation=45, ha='right')\n",
        "plt.tight_layout()\n",
        "plt.show()\n",
        "\n"
      ],
      "metadata": {
        "id": "1cMAkQb6LCTa",
        "colab": {
          "base_uri": "https://localhost:8080/",
          "height": 607
        },
        "outputId": "8917bc64-c2e8-4e4a-fb0f-ddc66318cb9e"
      },
      "execution_count": null,
      "outputs": [
        {
          "output_type": "display_data",
          "data": {
            "text/plain": [
              "<Figure size 1000x600 with 1 Axes>"
            ],
            "image/png": "[encoded data removed]"
          },
          "metadata": {}
        }
      ]
    },
    {
      "cell_type": "markdown",
      "source": [
        "# 1.2 Term Frequency-Inverse Document Frequency\n",
        "\n",
        "TF-IDF is a numerical statistic that reflects the importance of a word in a document relative to a collection of documents. It is calculated by multiplying the frequency of a term in a document by the logarithm of the inverse document frequency."
      ],
      "metadata": {
        "id": "OeTDKqcK1QgP"
      }
    },
    {
      "cell_type": "code",
      "source": [
        "from sklearn.feature_extraction.text import TfidfVectorizer\n",
        "\n",
        "# Extract tokenized review texts\n",
        "tokenized_texts = [' '.join(review['reviewText']) for review in filtered_final_stratified_sample]\n",
        "\n",
        "# Initialize TfidfVectorizer\n",
        "tfidf_vectorizer = TfidfVectorizer()\n",
        "\n",
        "# Fit the vectorizer on the tokenized texts and transform them into TF-IDF features\n",
        "tfidf_features = tfidf_vectorizer.fit_transform(tokenized_texts)\n",
        "\n",
        "# Convert the TF-IDF features to an array\n",
        "tfidf_features_array = tfidf_features.toarray()\n",
        "\n",
        "# Print the shape of the TF-IDF features array\n",
        "print(\"Shape of TF-IDF features array:\", tfidf_features_array.shape)\n"
      ],
      "metadata": {
        "colab": {
          "base_uri": "https://localhost:8080/"
        },
        "id": "RhtU1-NQ6-9R",
        "outputId": "932caa65-04c3-4192-a610-6b350f800dbd"
      },
      "execution_count": null,
      "outputs": [
        {
          "output_type": "stream",
          "name": "stdout",
          "text": [
            "Shape of TF-IDF features array: (9990, 21639)\n"
          ]
        }
      ]
    },
    {
      "cell_type": "code",
      "source": [
        "import matplotlib.pyplot as plt\n",
        "\n",
        "i = 0\n",
        "p = len(filtered_final_stratified_sample[i]['reviewText'])\n",
        "while p > 20 or p < 5:\n",
        "  i = i + 1\n",
        "  p = len(filtered_final_stratified_sample[i]['reviewText'])\n",
        "\n",
        "# Select a review index to visualize its TF-IDF representation\n",
        "review_index = i\n",
        "\n",
        "# Get the tokenized text and TF-IDF features for the selected review\n",
        "tokens = filtered_final_stratified_sample[review_index]['reviewText']\n",
        "tfidf_features_row = tfidf_features_array[review_index]\n",
        "\n",
        "# Create a dictionary mapping each word to its TF-IDF score in the review\n",
        "word_tfidf_dict = {word: tfidf_score for word, tfidf_score in zip(tfidf_vectorizer.get_feature_names_out(), tfidf_features_row)}\n",
        "\n",
        "# Sort the word-TF-IDF dictionary by TF-IDF score in descending order\n",
        "sorted_word_tfidf = sorted(word_tfidf_dict.items(), key=lambda x: x[1], reverse=True)\n",
        "\n",
        "# Extract the top N words and their TF-IDF scores for visualization\n",
        "top_n = len(filtered_final_stratified_sample[i]['reviewText'])  # Change this value to visualize more or fewer words\n",
        "top_words = [pair[0] for pair in sorted_word_tfidf[:top_n]]\n",
        "top_tfidf_scores = [pair[1] for pair in sorted_word_tfidf[:top_n]]\n",
        "\n",
        "# Plot the bar chart\n",
        "plt.figure(figsize=(10, 6))\n",
        "plt.bar(top_words, top_tfidf_scores, color='lightgreen')\n",
        "plt.xlabel('Words')\n",
        "plt.ylabel('TF-IDF Score')\n",
        "plt.title('TF-IDF Representation for Review {}'.format(review_index))\n",
        "plt.xticks(rotation=45, ha='right')\n",
        "plt.tight_layout()\n",
        "plt.show()"
      ],
      "metadata": {
        "colab": {
          "base_uri": "https://localhost:8080/",
          "height": 607
        },
        "id": "_NzfN0A8MdHa",
        "outputId": "d1253105-51f6-483c-bf46-e9db892ece3f"
      },
      "execution_count": null,
      "outputs": [
        {
          "output_type": "display_data",
          "data": {
            "text/plain": [
              "<Figure size 1000x600 with 1 Axes>"
            ],
            "image/png": "[encoded data removed]"
          },
          "metadata": {}
        }
      ]
    },
    {
      "cell_type": "markdown",
      "source": [
        "# 2.3 Word Embeddings\n",
        "\n",
        "Word embeddings are dense vector representations of words in a continuous vector space where each word is mapped to a high-dimensional vector. These embeddings capture semantic relationships between the words."
      ],
      "metadata": {
        "id": "LIUrlo421X5X"
      }
    },
    {
      "cell_type": "code",
      "source": [
        "from gensim.models import Word2Vec\n",
        "from nltk.tokenize import word_tokenize\n",
        "\n",
        "token_text = []\n",
        "\n",
        "for i in range(len(filtered_final_stratified_sample)):\n",
        "  token = filtered_final_stratified_sample[i]['reviewText']\n",
        "  token_text.append(token)\n",
        "\n",
        "\n",
        "# Define Word2Vec model parameters\n",
        "vector_size = 100  # Dimensionality of the word vectors\n",
        "window_size = 5  # Context window size\n",
        "min_word_count = 1  # Minimum word frequency\n",
        "epochs = 10  # Number of training epochs\n",
        "\n",
        "# Train Word2Vec model\n",
        "word2vec_model = Word2Vec(\n",
        "    sentences=token_text,\n",
        "    vector_size=vector_size,\n",
        "    window=window_size,\n",
        "    min_count=min_word_count,\n",
        "    epochs=epochs\n",
        ")\n",
        "\n",
        "# Get word embeddings\n",
        "word_embeddings = word2vec_model.wv\n"
      ],
      "metadata": {
        "id": "2GA7n-m1RZs2"
      },
      "execution_count": null,
      "outputs": []
    },
    {
      "cell_type": "markdown",
      "source": [
        "This is an interesting application of the word embeddings that calculates similarity"
      ],
      "metadata": {
        "id": "kEqJCwX61r2P"
      }
    },
    {
      "cell_type": "code",
      "source": [
        "# Example: Find similar words to the word 'good'\n",
        "similar_words = word_embeddings.most_similar('great', topn=10)\n",
        "print(\"Words similar to 'great':\", similar_words)"
      ],
      "metadata": {
        "colab": {
          "base_uri": "https://localhost:8080/"
        },
        "id": "S2N72mL5S4DU",
        "outputId": "cfb0c6f4-8ba2-4b36-8649-4c00794ec6bc"
      },
      "execution_count": null,
      "outputs": [
        {
          "output_type": "stream",
          "name": "stdout",
          "text": [
            "Words similar to 'great': [('barlow', 0.9546953439712524), ('awesome', 0.9451895952224731), ('nice', 0.9374719262123108), ('catchy', 0.9366359710693359), ('good', 0.9355006814002991), ('background', 0.934508740901947), ('terrible', 0.9315623641014099), ('ruins', 0.9301469326019287), ('aight', 0.9301304221153259), ('kind', 0.9299644827842712)]\n"
          ]
        }
      ]
    },
    {
      "cell_type": "markdown",
      "source": [
        "\n",
        "\n",
        "---\n",
        "\n"
      ],
      "metadata": {
        "id": "c3kF-gxTTM-S"
      }
    },
    {
      "cell_type": "markdown",
      "source": [
        "# **SECTION 3: MODEL SELECTION AND TRAINING**"
      ],
      "metadata": {
        "id": "BrIpmpsM0yrG"
      }
    },
    {
      "cell_type": "markdown",
      "source": [
        "So I have to admit I spent a very long time attempting to concatenate all three of the features (TF-IDF, BoW, and word_embeddings) but I realized that word_embeddings are more fit for neural networks than SVM so instead I just use BoW and TF-IDF."
      ],
      "metadata": {
        "id": "tZP1djdeupVL"
      }
    },
    {
      "cell_type": "code",
      "source": [
        "# Here i'm just extracting all the rating reviews into an array\n",
        "\n",
        "overall_rating = []\n",
        "\n",
        "for i in range(len(filtered_final_stratified_sample)):\n",
        "  rating = filtered_final_stratified_sample[i]['overall']\n",
        "  overall_rating.append(rating)"
      ],
      "metadata": {
        "id": "CqIuAUemV8y4"
      },
      "execution_count": null,
      "outputs": []
    },
    {
      "cell_type": "markdown",
      "source": [
        "# 3.1 Baseline model"
      ],
      "metadata": {
        "id": "kyPY6oDVVD9J"
      }
    },
    {
      "cell_type": "code",
      "source": [
        "# Here I'm establishing a baseline score that you'd expect if the model were\n",
        "# just choosing randomly. It's as expected for the 3 classes (-1,0,1) at 33%\n",
        "\n",
        "import numpy as np\n",
        "\n",
        "# Assuming equal distribution of classes (-1, 0, 1)\n",
        "num_samples = len(filtered_final_stratified_sample)\n",
        "class_distribution = { -1: 1/3, 0: 1/3, 1: 1/3 }\n",
        "\n",
        "# Generate random labels based on class distribution\n",
        "random_labels = np.random.choice(list(class_distribution.keys()), size=num_samples, p=list(class_distribution.values()))\n",
        "\n",
        "# Evaluate the performance of the random classifier (e.g., accuracy)\n",
        "# Assuming y_true contains the true sentiment labels from the dataset\n",
        "accuracy = (random_labels == overall_rating).mean()\n",
        "print(\"Accuracy of random classifier:\", accuracy)\n"
      ],
      "metadata": {
        "colab": {
          "base_uri": "https://localhost:8080/"
        },
        "id": "vv778zxZVC93",
        "outputId": "d19fc51f-4dfa-4819-c3c3-f9804d0958d5"
      },
      "execution_count": null,
      "outputs": [
        {
          "output_type": "stream",
          "name": "stdout",
          "text": [
            "Accuracy of random classifier: 0.33943943943943944\n"
          ]
        }
      ]
    },
    {
      "cell_type": "code",
      "source": [
        "# just double checking the shapes and types before going further\n",
        "\n",
        "print(type(bow_features))\n",
        "print(bow_features.shape)\n",
        "print(type(tfidf_features))\n",
        "print(tfidf_features.shape)"
      ],
      "metadata": {
        "colab": {
          "base_uri": "https://localhost:8080/"
        },
        "id": "Ed60LEqLZ_Pq",
        "outputId": "1ded1ba8-6194-4753-8cf8-88535120e5cc"
      },
      "execution_count": null,
      "outputs": [
        {
          "output_type": "stream",
          "name": "stdout",
          "text": [
            "<class 'scipy.sparse._csr.csr_matrix'>\n",
            "(9990, 21639)\n",
            "<class 'scipy.sparse._csr.csr_matrix'>\n",
            "(9990, 21639)\n"
          ]
        }
      ]
    },
    {
      "cell_type": "markdown",
      "source": [
        "# 3.2 prepping feature data"
      ],
      "metadata": {
        "id": "7LSIxKlhS-Ad"
      }
    },
    {
      "cell_type": "code",
      "source": [
        "# Here I'm combining the bag of words and tf-idf features\n",
        "\n",
        "from scipy.sparse import hstack\n",
        "\n",
        "# Concatenate TF-IDF and BoW matrices horizontally\n",
        "X_combined = hstack([tfidf_features, bow_features])\n",
        "\n",
        "# Now X_combined is a combined sparse matrix containing both TF-IDF and BoW features\n",
        "print(\"Combined shape:\", X_combined.shape)"
      ],
      "metadata": {
        "colab": {
          "base_uri": "https://localhost:8080/"
        },
        "id": "ORoD-P2fPAYm",
        "outputId": "9bd76e9e-c6d0-4081-e336-13bea05cde72"
      },
      "execution_count": null,
      "outputs": [
        {
          "output_type": "stream",
          "name": "stdout",
          "text": [
            "Combined shape: (9990, 43278)\n"
          ]
        }
      ]
    },
    {
      "cell_type": "code",
      "source": [
        "# visualization\n",
        "\n",
        "print((X_combined[0]))"
      ],
      "metadata": {
        "colab": {
          "base_uri": "https://localhost:8080/"
        },
        "id": "UHMB7DqCPYaY",
        "outputId": "8561116d-b408-4d7b-c185-42df1fbe0a8e"
      },
      "execution_count": null,
      "outputs": [
        {
          "output_type": "stream",
          "name": "stdout",
          "text": [
            "  (0, 17631)\t0.5997111732282331\n",
            "  (0, 7971)\t0.8002165386351472\n",
            "  (0, 29610)\t1.0\n",
            "  (0, 39270)\t1.0\n"
          ]
        }
      ]
    },
    {
      "cell_type": "code",
      "source": [
        "# double checking that lengths match\n",
        "\n",
        "print(X_combined.shape)\n",
        "print(len(overall_rating))"
      ],
      "metadata": {
        "colab": {
          "base_uri": "https://localhost:8080/"
        },
        "id": "dGbUpWGNP36A",
        "outputId": "005e20ad-fc44-4b72-98bb-e8bc94d2930b"
      },
      "execution_count": null,
      "outputs": [
        {
          "output_type": "stream",
          "name": "stdout",
          "text": [
            "(9990, 43278)\n",
            "9990\n"
          ]
        }
      ]
    },
    {
      "cell_type": "code",
      "source": [
        "# Split data into training and testing sets\n",
        "\n",
        "from sklearn.model_selection import train_test_split\n",
        "X_train, X_test, y_train, y_test = train_test_split(X_combined, overall_rating, test_size=0.2, random_state=42)"
      ],
      "metadata": {
        "id": "ZwkJSnOys2wr"
      },
      "execution_count": null,
      "outputs": []
    },
    {
      "cell_type": "code",
      "source": [
        "# Choose the size of the subset\n",
        "subset_size = int(0.1 * X_train.shape[0])\n",
        "\n",
        "# Create a smaller subset of the training and testing data\n",
        "X_train_subset = X_train[:subset_size]\n",
        "y_train_subset = y_train[:subset_size]\n",
        "\n",
        "X_test_subset = X_test[:subset_size]\n",
        "y_test_subset = y_test[:subset_size]\n",
        "\n",
        "print(X_train.shape[0])\n",
        "print(X_train_subset.shape[0])"
      ],
      "metadata": {
        "colab": {
          "base_uri": "https://localhost:8080/"
        },
        "id": "VV5C5Day3xGQ",
        "outputId": "124af03a-1982-42e1-bd18-71954fdad74d"
      },
      "execution_count": null,
      "outputs": [
        {
          "output_type": "stream",
          "name": "stdout",
          "text": [
            "7992\n",
            "799\n"
          ]
        }
      ]
    },
    {
      "cell_type": "markdown",
      "source": [
        "#3.3 BoW / TF-IDF MODEL TRAINING"
      ],
      "metadata": {
        "id": "YLOghb-Ew3LM"
      }
    },
    {
      "cell_type": "markdown",
      "source": [
        "# With rbf kernel"
      ],
      "metadata": {
        "id": "tIvnPX3hxLwo"
      }
    },
    {
      "cell_type": "code",
      "source": [
        "from sklearn.model_selection import GridSearchCV\n",
        "from sklearn.svm import SVC\n",
        "\n",
        "# Define the parameter grid\n",
        "param_grid = {\n",
        "    'C': [0.1, 1, 10],          # List of C values to try\n",
        "    'gamma': [0.01, 0.1, 1],    # List of gamma values to try\n",
        "}\n",
        "\n",
        "# Initialize SVM classifier with RBF kernel\n",
        "rbf_svm_classifier = SVC(kernel='rbf')\n",
        "\n",
        "# Initialize GridSearchCV\n",
        "grid_search = GridSearchCV(estimator=rbf_svm_classifier, param_grid=param_grid, cv=5)\n",
        "\n",
        "# Perform grid search\n",
        "grid_search.fit(X_train_subset, y_train_subset)\n",
        "\n",
        "# Get the best hyperparameters\n",
        "best_params = grid_search.best_params_\n",
        "print(\"Best hyperparameters:\", best_params)\n",
        "\n",
        "# Get the best cross-validation score\n",
        "best_score = grid_search.best_score_\n",
        "print(\"Best cross-validation score:\", best_score)"
      ],
      "metadata": {
        "colab": {
          "base_uri": "https://localhost:8080/"
        },
        "id": "VsMfch4rsv6F",
        "outputId": "ea3af5fd-79d7-4239-ef87-b71a8ff53141"
      },
      "execution_count": null,
      "outputs": [
        {
          "output_type": "stream",
          "name": "stdout",
          "text": [
            "Best hyperparameters: {'C': 10, 'gamma': 0.01}\n",
            "Best cross-validation score: 0.5968789308176101\n"
          ]
        }
      ]
    },
    {
      "cell_type": "code",
      "source": [
        "\n",
        "print(best_params.keys())\n",
        "print(best_params)"
      ],
      "metadata": {
        "colab": {
          "base_uri": "https://localhost:8080/"
        },
        "id": "aq8kJgQ77gdK",
        "outputId": "b5e7d0c4-e4d6-496b-fefd-c6a5c7d0cfd3"
      },
      "execution_count": null,
      "outputs": [
        {
          "output_type": "stream",
          "name": "stdout",
          "text": [
            "dict_keys(['C', 'gamma'])\n",
            "{'C': 10, 'gamma': 0.01}\n"
          ]
        }
      ]
    },
    {
      "cell_type": "code",
      "source": [
        "from sklearn.model_selection import train_test_split\n",
        "from sklearn.svm import SVC\n",
        "from sklearn.metrics import classification_report\n",
        "\n",
        "# Initialize SVM classifier\n",
        "rbf_svm_classifier = SVC(kernel='rbf', C=best_params['C'], gamma=best_params['gamma'])\n",
        "\n",
        "# Train the SVM model\n",
        "rbf_svm_classifier.fit(X_train, y_train)\n",
        "\n",
        "# Evaluate the model\n",
        "y_pred = rbf_svm_classifier.predict(X_test)\n",
        "print(classification_report(y_test, y_pred))"
      ],
      "metadata": {
        "colab": {
          "base_uri": "https://localhost:8080/"
        },
        "id": "5jUkn8o_6sSI",
        "outputId": "9c14cb93-a0e8-415d-f9f1-9e7e484bfed3"
      },
      "execution_count": null,
      "outputs": [
        {
          "output_type": "stream",
          "name": "stdout",
          "text": [
            "              precision    recall  f1-score   support\n",
            "\n",
            "          -1       0.82      0.77      0.79       660\n",
            "           0       0.57      0.61      0.59       663\n",
            "           1       0.68      0.68      0.68       675\n",
            "\n",
            "    accuracy                           0.69      1998\n",
            "   macro avg       0.69      0.69      0.69      1998\n",
            "weighted avg       0.69      0.69      0.69      1998\n",
            "\n"
          ]
        }
      ]
    },
    {
      "cell_type": "markdown",
      "source": [
        "# With linear Kernel"
      ],
      "metadata": {
        "id": "ddwOSAPlTKK3"
      }
    },
    {
      "cell_type": "code",
      "source": [
        "# Define the parameter grid\n",
        "param_grid = {\n",
        "    'C': [0.1, 1, 10],          # List of C values to try\n",
        "\n",
        "}\n",
        "\n",
        "# Initialize SVM classifier\n",
        "linear_svm_classifier = SVC(kernel='linear')\n",
        "\n",
        "# Initialize GridSearchCV\n",
        "grid_search = GridSearchCV(estimator=linear_svm_classifier, param_grid=param_grid, cv=5)\n",
        "\n",
        "# Perform grid search\n",
        "grid_search.fit(X_train_subset, y_train_subset)\n",
        "\n",
        "# Get the best hyperparameters\n",
        "best_params = grid_search.best_params_\n",
        "print(\"Best hyperparameters:\", best_params)\n",
        "\n",
        "# Get the best cross-validation score\n",
        "best_score = grid_search.best_score_\n",
        "print(\"Best cross-validation score:\", best_score)\n",
        "\n"
      ],
      "metadata": {
        "colab": {
          "base_uri": "https://localhost:8080/"
        },
        "id": "9IMX_Aw551_s",
        "outputId": "fd3800d2-a918-4d21-9594-03a9e232c3e9"
      },
      "execution_count": null,
      "outputs": [
        {
          "output_type": "stream",
          "name": "stdout",
          "text": [
            "Best hyperparameters: {'C': 0.1}\n",
            "Best cross-validation score: 0.56437106918239\n"
          ]
        }
      ]
    },
    {
      "cell_type": "code",
      "source": [
        "from sklearn.model_selection import train_test_split\n",
        "from sklearn.svm import SVC\n",
        "from sklearn.metrics import classification_report\n",
        "\n",
        "# Initialize SVM classifier\n",
        "linear_svm_classifier = SVC(kernel='linear', C=best_params['C'])\n",
        "\n",
        "# Train the SVM model\n",
        "linear_svm_classifier.fit(X_train, y_train)\n",
        "\n",
        "# Evaluate the model\n",
        "y_pred = linear_svm_classifier.predict(X_test)\n",
        "print(classification_report(y_test, y_pred))\n"
      ],
      "metadata": {
        "colab": {
          "base_uri": "https://localhost:8080/"
        },
        "id": "Tbp4PlDxQptv",
        "outputId": "07a033bf-4906-40ed-fb16-eb5f971cbd91"
      },
      "execution_count": null,
      "outputs": [
        {
          "output_type": "stream",
          "name": "stdout",
          "text": [
            "              precision    recall  f1-score   support\n",
            "\n",
            "          -1       0.83      0.72      0.77       660\n",
            "           0       0.55      0.62      0.58       663\n",
            "           1       0.67      0.68      0.68       675\n",
            "\n",
            "    accuracy                           0.67      1998\n",
            "   macro avg       0.69      0.67      0.68      1998\n",
            "weighted avg       0.69      0.67      0.68      1998\n",
            "\n"
          ]
        }
      ]
    },
    {
      "cell_type": "markdown",
      "source": [
        "\n",
        "\n",
        "---\n",
        "\n"
      ],
      "metadata": {
        "id": "F99dzkhITfQE"
      }
    },
    {
      "cell_type": "markdown",
      "source": [
        "# Conclusion"
      ],
      "metadata": {
        "id": "P-QeFzXvTggj"
      }
    },
    {
      "cell_type": "markdown",
      "source": [
        "So as we can see the rbf kernel svm with C of 10 and gamma of 0.01 scored the highest in the end."
      ],
      "metadata": {
        "id": "nR_1tbygTlal"
      }
    },
    {
      "cell_type": "code",
      "source": [
        "# Initialize SVM classifier\n",
        "rbf_svm_classifier = SVC(kernel='rbf', C=10, gamma=0.01)\n",
        "\n",
        "# Train the SVM model\n",
        "rbf_svm_classifier.fit(X_train, y_train)\n",
        "\n",
        "# Evaluate the model\n",
        "y_pred = rbf_svm_classifier.predict(X_test)\n",
        "print(classification_report(y_test, y_pred))"
      ],
      "metadata": {
        "colab": {
          "base_uri": "https://localhost:8080/"
        },
        "id": "Rlcn3LNtTUXd",
        "outputId": "214114cd-1a30-4ef6-e520-738c27744e57"
      },
      "execution_count": null,
      "outputs": [
        {
          "output_type": "stream",
          "name": "stdout",
          "text": [
            "              precision    recall  f1-score   support\n",
            "\n",
            "          -1       0.82      0.77      0.79       660\n",
            "           0       0.57      0.61      0.59       663\n",
            "           1       0.68      0.68      0.68       675\n",
            "\n",
            "    accuracy                           0.69      1998\n",
            "   macro avg       0.69      0.69      0.69      1998\n",
            "weighted avg       0.69      0.69      0.69      1998\n",
            "\n"
          ]
        }
      ]
    },
    {
      "cell_type": "markdown",
      "source": [
        "Definitely not perfect, but based on the benchmark of 30% it's pretty decent. Unfortunately the dimenstionality of the sparse matrix format of the features makes it difficult to visualize which is why there are no graph/plots displaying the decision boundaries."
      ],
      "metadata": {
        "id": "YdEw0l8hCmpc"
      }
    }
  ]
}